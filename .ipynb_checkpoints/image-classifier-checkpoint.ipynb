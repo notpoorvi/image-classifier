{
 "cells": [
  {
   "cell_type": "code",
   "execution_count": 5,
   "id": "bd61a8cb-5c5c-44a2-a51c-7bdaad12d8e7",
   "metadata": {},
   "outputs": [],
   "source": [
    "# from datasets import load_dataset\n",
    "\n",
    "# ds = load_dataset(\"ylecun/mnist\")"
   ]
  },
  {
   "cell_type": "code",
   "execution_count": 49,
   "id": "da2c9204-f250-4c6a-9a2a-ebec89cb296f",
   "metadata": {},
   "outputs": [],
   "source": [
    "import numpy as np\n",
    "from PIL import Image\n",
    "\n",
    "import torch\n",
    "import torch.nn as nn\n",
    "import torch.nn.functional as F\n",
    "import torch.optim as optim\n",
    "from torch.utils.data import Dataset, DataLoader\n",
    "\n",
    "import torchvision\n",
    "import torchvision.transforms as transforms\n",
    "\n",
    "import matplotlib.pyplot as plt"
   ]
  },
  {
   "cell_type": "code",
   "execution_count": 33,
   "id": "8fe4c357-d9cd-4e47-a370-8594004caa89",
   "metadata": {},
   "outputs": [],
   "source": [
    "transform = transforms.Compose([\n",
    "    transforms.ToTensor(),\n",
    "    transforms.Normalize((0.1307,), (0.3081,))\n",
    "])"
   ]
  },
  {
   "cell_type": "code",
   "execution_count": 50,
   "id": "33dfbaeb-efef-4d8a-a9db-85cd82138d3c",
   "metadata": {},
   "outputs": [],
   "source": [
    "train_data = torchvision.datasets.MNIST(root='./data', train=True, transform=transform, download=True)\n",
    "test_data = torchvision.datasets.MNIST(root='./data', train=False, transform=transform, download=True)\n",
    "\n",
    "train_loader = DataLoader(train_data, batch_size=32, shuffle=True, num_workers=2)\n",
    "test_loader = DataLoader(test_data, batch_size=32, shuffle=True, num_workers=2)"
   ]
  },
  {
   "cell_type": "code",
   "execution_count": 66,
   "id": "9cec0b00-7d97-4400-ad57-5888d7583a1a",
   "metadata": {},
   "outputs": [],
   "source": [
    "x_train = torch.stack([data[0] for data in train_data])\n",
    "y_train = torch.tensor([data[1] for data in train_data])\n",
    "\n",
    "x_test = torch.stack([data[0] for data in test_data])\n",
    "y_test = torch.tensor([data[1] for data in test_data])"
   ]
  },
  {
   "cell_type": "code",
   "execution_count": 78,
   "id": "723ddec4-6a0f-48f1-9341-a5cfea529fd5",
   "metadata": {},
   "outputs": [],
   "source": [
    "# One hot encode:\n",
    "y_train_new = F.one_hot(y_train, num_classes=10)"
   ]
  },
  {
   "cell_type": "code",
   "execution_count": 79,
   "id": "e363affe-bee7-4afc-a371-20ec077f50e1",
   "metadata": {},
   "outputs": [
    {
     "data": {
      "text/plain": [
       "torch.Size([60000, 784])"
      ]
     },
     "execution_count": 79,
     "metadata": {},
     "output_type": "execute_result"
    }
   ],
   "source": [
    "x_train.view(-1, 28**2).shape"
   ]
  },
  {
   "cell_type": "code",
   "execution_count": null,
   "id": "610171a2-8ad3-4933-9db0-7c75ce71a434",
   "metadata": {},
   "outputs": [],
   "source": []
  },
  {
   "cell_type": "code",
   "execution_count": null,
   "id": "a77691b6-986f-47e9-87ef-ebc7f9157f0d",
   "metadata": {},
   "outputs": [],
   "source": []
  },
  {
   "cell_type": "code",
   "execution_count": null,
   "id": "32743fc4-4336-43fe-8fab-d315a607b352",
   "metadata": {},
   "outputs": [],
   "source": []
  },
  {
   "cell_type": "code",
   "execution_count": null,
   "id": "993071c5-b175-4d27-b8d2-68f689b76314",
   "metadata": {},
   "outputs": [],
   "source": []
  },
  {
   "cell_type": "code",
   "execution_count": null,
   "id": "57a35f49-9833-4830-8716-31b385b658a2",
   "metadata": {},
   "outputs": [],
   "source": []
  },
  {
   "cell_type": "code",
   "execution_count": null,
   "id": "57ed2a78-1e9b-48d2-8308-5794c597e63a",
   "metadata": {},
   "outputs": [],
   "source": [
    "class NeuralNet(nn.Module):\n",
    "    def __init__(self):\n",
    "        super().__init__()\n",
    "\n",
    "        self.conv1 = nn.Conv2d(1, 12, 5)\n",
    "        "
   ]
  }
 ],
 "metadata": {
  "kernelspec": {
   "display_name": "Python 3 (ipykernel)",
   "language": "python",
   "name": "python3"
  },
  "language_info": {
   "codemirror_mode": {
    "name": "ipython",
    "version": 3
   },
   "file_extension": ".py",
   "mimetype": "text/x-python",
   "name": "python",
   "nbconvert_exporter": "python",
   "pygments_lexer": "ipython3",
   "version": "3.12.4"
  }
 },
 "nbformat": 4,
 "nbformat_minor": 5
}
